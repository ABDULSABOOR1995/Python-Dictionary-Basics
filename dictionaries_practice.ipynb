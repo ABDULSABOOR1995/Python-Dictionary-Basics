{
 "cells": [
  {
   "cell_type": "markdown",
   "metadata": {},
   "source": [
    "# Dictionary\n",
    "\n",
    "'''Dictionary in Python is an unordered collection of data values, used to store data values like a\n",
    "   map, which unlike other Data Types that hold only single value as an element,It is a collection of key value pair , Each key is connected to a value , \n",
    "   value can be a number, string, list, another dictionary or an object'''"
   ]
  },
  {
   "cell_type": "markdown",
   "metadata": {},
   "source": [
    "<a id='h1'></a>\n",
    "### 1- Initialization & Declaration"
   ]
  },
  {
   "cell_type": "code",
   "execution_count": 1,
   "metadata": {},
   "outputs": [
    {
     "data": {
      "text/plain": [
       "{'name': 'Abdul Saboor',\n",
       " 'roll_no': '2015-SE-143',\n",
       " 'depart': 'Software Engineering'}"
      ]
     },
     "execution_count": 1,
     "metadata": {},
     "output_type": "execute_result"
    }
   ],
   "source": [
    "\n",
    "student_01 = {'name': \"Abdul Saboor\", 'roll_no': \"2015-SE-143\",'depart': \"Software Engineering\"}\n",
    "student_01\n"
   ]
  },
  {
   "cell_type": "markdown",
   "metadata": {},
   "source": [
    "### OR"
   ]
  },
  {
   "cell_type": "code",
   "execution_count": 2,
   "metadata": {},
   "outputs": [
    {
     "data": {
      "text/plain": [
       "{'name': 'Waleed', 'roll_no': '2015-SE-142', 'depart': 'SOftware Engineering'}"
      ]
     },
     "execution_count": 2,
     "metadata": {},
     "output_type": "execute_result"
    }
   ],
   "source": [
    "student_02 = {}\n",
    "student_02['name'] = \"Waleed\" \n",
    "student_02['roll_no'] = \"2015-SE-142\"\n",
    "student_02['depart'] = \"SOftware Engineering\"\n",
    "student_02"
   ]
  },
  {
   "cell_type": "markdown",
   "metadata": {},
   "source": [
    "[Go to summary](#summary)"
   ]
  },
  {
   "cell_type": "markdown",
   "metadata": {},
   "source": [
    "<a id='h2'></a>\n",
    "### 2- Dictionary Manipulation"
   ]
  },
  {
   "cell_type": "markdown",
   "metadata": {},
   "source": [
    "<a id='h2.1'></a>\n",
    "#### 2.1 modifying a dict's value"
   ]
  },
  {
   "cell_type": "code",
   "execution_count": 3,
   "metadata": {},
   "outputs": [
    {
     "data": {
      "text/plain": [
       "{'name': 'Abdul Saboor', 'roll_no': '2015-SE-143', 'depart': 'Data Science'}"
      ]
     },
     "execution_count": 3,
     "metadata": {},
     "output_type": "execute_result"
    }
   ],
   "source": [
    "student_01['depart'] = \"Data Science\"\n",
    "student_01"
   ]
  },
  {
   "cell_type": "markdown",
   "metadata": {},
   "source": [
    "[Go to summary](#summary)"
   ]
  },
  {
   "cell_type": "markdown",
   "metadata": {},
   "source": [
    "<a id='h2.2'></a>\n",
    "#### 2.2 deleting whole dict"
   ]
  },
  {
   "cell_type": "code",
   "execution_count": 4,
   "metadata": {},
   "outputs": [],
   "source": [
    "del(student_02)"
   ]
  },
  {
   "cell_type": "markdown",
   "metadata": {},
   "source": [
    "[Go to summary](#summary)"
   ]
  },
  {
   "cell_type": "markdown",
   "metadata": {},
   "source": [
    "<a id='h2.3'></a>\n",
    "#### 2.3 add items to a dict"
   ]
  },
  {
   "cell_type": "code",
   "execution_count": 5,
   "metadata": {},
   "outputs": [
    {
     "data": {
      "text/plain": [
       "{'name': 'Abdul Saboor',\n",
       " 'roll_no': '2015-SE-143',\n",
       " 'depart': 'Data Science',\n",
       " 'registration_no': '0153-SE-2015'}"
      ]
     },
     "execution_count": 5,
     "metadata": {},
     "output_type": "execute_result"
    }
   ],
   "source": [
    "student_01['registration_no'] = \"0153-SE-2015\"\n",
    "student_01"
   ]
  },
  {
   "cell_type": "markdown",
   "metadata": {},
   "source": [
    "[Go to summary](#summary)"
   ]
  },
  {
   "cell_type": "markdown",
   "metadata": {},
   "source": [
    "<a id='h2.4'></a>\n",
    "#### 2.4 delete items from a dict"
   ]
  },
  {
   "cell_type": "code",
   "execution_count": 6,
   "metadata": {},
   "outputs": [
    {
     "data": {
      "text/plain": [
       "{'name': 'Abdul Saboor', 'roll_no': '2015-SE-143', 'depart': 'Data Science'}"
      ]
     },
     "execution_count": 6,
     "metadata": {},
     "output_type": "execute_result"
    }
   ],
   "source": [
    "del student_01['registration_no']\n",
    "student_01"
   ]
  },
  {
   "cell_type": "markdown",
   "metadata": {},
   "source": [
    "[Go to summary](#summary)"
   ]
  },
  {
   "cell_type": "markdown",
   "metadata": {},
   "source": [
    "### Note:\n",
    "When you are defining a dictionary containing more than 2 or 3 items\n",
    "   then it is a good idea to break the items into seperatye lines for readability"
   ]
  },
  {
   "cell_type": "code",
   "execution_count": 7,
   "metadata": {},
   "outputs": [
    {
     "data": {
      "text/plain": [
       "{'a': 'Imran Khan',\n",
       " 'b': 'Mustufa Kamal',\n",
       " 'c': 'Nawaz Sharif',\n",
       " 'd': 'Siraj-ul-Haq'}"
      ]
     },
     "execution_count": 7,
     "metadata": {},
     "output_type": "execute_result"
    }
   ],
   "source": [
    "favourite_leaders = {\n",
    " 'a': \"Imran Khan\",\n",
    " 'b': \"Mustufa Kamal\",\n",
    " 'c': \"Nawaz Sharif\",\n",
    " 'd': \"Siraj-ul-Haq\", #\n",
    "}\n",
    "favourite_leaders"
   ]
  },
  {
   "cell_type": "markdown",
   "metadata": {},
   "source": [
    "<a id='h3'></a>\n",
    "### 3- Looping through a dictionary"
   ]
  },
  {
   "cell_type": "markdown",
   "metadata": {},
   "source": [
    "<a id='h3.1'></a>\n",
    "#### 3.1 looping through values"
   ]
  },
  {
   "cell_type": "code",
   "execution_count": 8,
   "metadata": {},
   "outputs": [
    {
     "name": "stdout",
     "output_type": "stream",
     "text": [
      "Abdul Saboor\n",
      "2015-SE-143\n",
      "Data Science\n"
     ]
    }
   ],
   "source": [
    "for value in student_01.values(): # value is a variable where all values are store one by one\n",
    "    print(value)                  # .values() is a method for taking values from keys\n",
    "    "
   ]
  },
  {
   "cell_type": "markdown",
   "metadata": {},
   "source": [
    "[Go to summary](#summary)"
   ]
  },
  {
   "cell_type": "code",
   "execution_count": 9,
   "metadata": {},
   "outputs": [
    {
     "name": "stdout",
     "output_type": "stream",
     "text": [
      "Imran Khan\n",
      "Mustufa Kamal\n",
      "Nawaz Sharif\n",
      "Siraj-ul-Haq\n"
     ]
    }
   ],
   "source": [
    "for leader in favourite_leaders.values():\n",
    "    print(leader)"
   ]
  },
  {
   "cell_type": "markdown",
   "metadata": {},
   "source": [
    "[Go to summary](#summary)"
   ]
  },
  {
   "cell_type": "markdown",
   "metadata": {},
   "source": [
    "<a id='h3.2'></a>\n",
    "#### 3.2 Looping through keys"
   ]
  },
  {
   "cell_type": "code",
   "execution_count": 10,
   "metadata": {},
   "outputs": [
    {
     "name": "stdout",
     "output_type": "stream",
     "text": [
      "name\n",
      "roll_no\n",
      "depart\n"
     ]
    }
   ],
   "source": [
    "for key in student_01.keys(): # key is a variable where all keys are store one by one\n",
    "    print(key)              # .keys() is a method for taking keys from dict\n"
   ]
  },
  {
   "cell_type": "code",
   "execution_count": 11,
   "metadata": {},
   "outputs": [
    {
     "name": "stdout",
     "output_type": "stream",
     "text": [
      "a\n",
      "b\n",
      "c\n",
      "d\n"
     ]
    }
   ],
   "source": [
    "for key in favourite_leaders.keys():\n",
    "    print(key) # print all keys in a dictionary"
   ]
  },
  {
   "cell_type": "markdown",
   "metadata": {},
   "source": [
    "[Go to summary](#summary)"
   ]
  },
  {
   "cell_type": "markdown",
   "metadata": {},
   "source": [
    "<a id='h3.3'></a>\n",
    "#### 3.3 Looping through both (keys & values)"
   ]
  },
  {
   "cell_type": "code",
   "execution_count": 12,
   "metadata": {},
   "outputs": [
    {
     "name": "stdout",
     "output_type": "stream",
     "text": [
      "name: Abdul Saboor\n",
      "roll_no: 2015-SE-143\n",
      "depart: Data Science\n"
     ]
    }
   ],
   "source": [
    "for key,value in student_01.items(): # .items is a method that return both keys and value\n",
    "    print(key+\": \"+value) # print key and its value in simple form           \n"
   ]
  },
  {
   "cell_type": "code",
   "execution_count": 13,
   "metadata": {},
   "outputs": [
    {
     "name": "stdout",
     "output_type": "stream",
     "text": [
      "a: Imran Khan\n",
      "b: Mustufa Kamal\n",
      "c: Nawaz Sharif\n",
      "d: Siraj-ul-Haq\n"
     ]
    }
   ],
   "source": [
    "for key,value in favourite_leaders.items():\n",
    "    print(key+\": \"+value)"
   ]
  },
  {
   "cell_type": "markdown",
   "metadata": {},
   "source": [
    "[Go to summary](#summary)"
   ]
  },
  {
   "cell_type": "markdown",
   "metadata": {},
   "source": [
    "<a id='h4'></a>\n",
    "### 4- Looping through a dict in ascending order"
   ]
  },
  {
   "cell_type": "code",
   "execution_count": 14,
   "metadata": {},
   "outputs": [
    {
     "name": "stdout",
     "output_type": "stream",
     "text": [
      "a\n",
      "b\n",
      "c\n",
      "d\n"
     ]
    }
   ],
   "source": [
    "'''If we want to loop through dictionary in order we have to first sort the keys'''\n",
    "for key in sorted(favourite_leaders):\n",
    "    print(key)\n",
    "    "
   ]
  },
  {
   "cell_type": "markdown",
   "metadata": {},
   "source": [
    "[Go to summary](#summary)"
   ]
  },
  {
   "cell_type": "markdown",
   "metadata": {},
   "source": [
    "<a id='h5'></a>\n",
    "### 5- Looping through all unique values in a dict\n",
    "#### Note\n",
    "In dictionary repeated values of a single keys can come so we use sets to overcome this situation"
   ]
  },
  {
   "cell_type": "code",
   "execution_count": 15,
   "metadata": {},
   "outputs": [
    {
     "name": "stdout",
     "output_type": "stream",
     "text": [
      "Siraj-ul-Haq\n",
      "Nawaz Sharif\n",
      "Imran Khan\n",
      "Mustufa Kamal\n"
     ]
    }
   ],
   "source": [
    "favourite_leaders['e'] = 'Imran Khan'\n",
    "favourite_leaders # here repetition of value occur(Imran Khan comes 2 time with key 'a' and with key 'e')\n",
    "\n",
    "#TO overcome above situation we use sets(In set value(Imran Khan) comes only one time'''\n",
    "for leader in set(favourite_leaders.values()): \n",
    "    print(leader)"
   ]
  },
  {
   "cell_type": "code",
   "execution_count": 16,
   "metadata": {},
   "outputs": [
    {
     "data": {
      "text/plain": [
       "{'a': 'Imran Khan',\n",
       " 'b': 'Mustufa Kamal',\n",
       " 'c': 'Obama',\n",
       " 'd': 'Siraj-ul-Haq',\n",
       " 'e': 'Imran Khan'}"
      ]
     },
     "execution_count": 16,
     "metadata": {},
     "output_type": "execute_result"
    }
   ],
   "source": [
    "favourite_leaders['c'] = \"Obama\" \n",
    "favourite_leaders"
   ]
  },
  {
   "cell_type": "code",
   "execution_count": 17,
   "metadata": {},
   "outputs": [
    {
     "name": "stdout",
     "output_type": "stream",
     "text": [
      "a: Imran Khan\n",
      "b: Mustufa Kamal\n",
      "e: Imran Khan\n",
      "d: Siraj-ul-Haq\n",
      "c: Obama\n"
     ]
    }
   ],
   "source": [
    "for k,v in set(favourite_leaders.items()): # set wala funda sirf or sirf \"value\" par chata h \n",
    "    print(k+\": \"+v)"
   ]
  },
  {
   "cell_type": "markdown",
   "metadata": {},
   "source": [
    "#### Note\n",
    "There can be more than 1 key of a value, but its vice versa isn't possible, means that there can't be more than 1 value of a same key.<br>\n",
    "e.g<br>\n",
    "{ 'a':'Imran Khan',<br>\n",
    "  'b':'Imran Khan'<br>\n",
    "  } (Possible)\n",
    "  <br>\n",
    "{ 'a':'Imran Khan',<br>\n",
    "  'a':'Obama'<br>\n",
    "  } (Not possible)"
   ]
  },
  {
   "cell_type": "markdown",
   "metadata": {},
   "source": [
    "[Go to summary](#summary)"
   ]
  },
  {
   "cell_type": "markdown",
   "metadata": {},
   "source": [
    "<a id='h6'></a>\n",
    "### 6- Making a list of dictionaries"
   ]
  },
  {
   "cell_type": "code",
   "execution_count": 18,
   "metadata": {},
   "outputs": [
    {
     "data": {
      "text/plain": [
       "[{'name': 'Abdul Saboor',\n",
       "  'roll_no': '2015-SE-143',\n",
       "  'depart': 'Software Engineering'},\n",
       " {'name': 'Waleed',\n",
       "  'roll_no': '2015-SE-142',\n",
       "  'depart': 'Computer Engineering'},\n",
       " {'name': 'Rahima Khan', 'roll_no': '2019-Ma-123', 'depart': 'Mathematics'}]"
      ]
     },
     "execution_count": 18,
     "metadata": {},
     "output_type": "execute_result"
    }
   ],
   "source": [
    "students = [  # in list of dictionaries,we not assign name of different dictionaries\n",
    "    {\n",
    "    'name': \"Abdul Saboor\",\n",
    "    'roll_no': \"2015-SE-143\",\n",
    "    'depart': \"Software Engineering\",\n",
    "},\n",
    "    {\n",
    "    'name': \"Waleed\",\n",
    "    'roll_no': \"2015-SE-142\",\n",
    "    'depart': \"Computer Engineering\",\n",
    "},\n",
    "    {\n",
    "    'name': \"Rahima Khan\",\n",
    "    'roll_no': \"2019-Ma-123\",\n",
    "    'depart': \"Mathematics\",\n",
    "},\n",
    "]\n",
    "students"
   ]
  },
  {
   "cell_type": "markdown",
   "metadata": {},
   "source": [
    "   # OR"
   ]
  },
  {
   "cell_type": "code",
   "execution_count": 19,
   "metadata": {},
   "outputs": [
    {
     "data": {
      "text/plain": [
       "[{'first_name': 'Abdul',\n",
       "  'last_name': 'Saboor',\n",
       "  'e_mail': 'asaboor94@gmail.com',\n",
       "  'password': '123'},\n",
       " {'first_name': 'Rahima',\n",
       "  'last_name': 'Khan',\n",
       "  'e_mail': 'rahimakhan123@gmail.com',\n",
       "  'password': '321'},\n",
       " {'first_name': 'Bilal Hussain',\n",
       "  'last_name': 'Hussain',\n",
       "  'e_mail': 'bilalhussain@hotmail.com',\n",
       "  'password': '987'}]"
      ]
     },
     "execution_count": 19,
     "metadata": {},
     "output_type": "execute_result"
    }
   ],
   "source": [
    "'''initialising dictionaries and appending them in a list'''\n",
    "users = []\n",
    "user_1 = {\n",
    "    'first_name': \"Abdul\",\n",
    "    'last_name': \"Saboor\",\n",
    "    'e_mail': \"asaboor94@gmail.com\",\n",
    "    'password': \"123\",\n",
    "}\n",
    "user_2 = {\n",
    "    'first_name': \"Rahima\",\n",
    "    'last_name': \"Khan\",\n",
    "    'e_mail': \"rahimakhan123@gmail.com\",\n",
    "    'password': \"321\",\n",
    "}\n",
    "user_3 = {\n",
    "    'first_name': \"Bilal Hussain\",\n",
    "    'last_name': \"Hussain\",\n",
    "    'e_mail': \"bilalhussain@hotmail.com\",\n",
    "    'password': \"987\",\n",
    "}\n",
    "users.append(user_1)  # kisio tarh se sare for loop se append hosakte hain??? dekhna h\n",
    "users.append(user_2)  \n",
    "users.append(user_3)\n",
    "users"
   ]
  },
  {
   "cell_type": "markdown",
   "metadata": {},
   "source": [
    "[Go to summary](#summary)"
   ]
  },
  {
   "cell_type": "markdown",
   "metadata": {},
   "source": [
    "<a id='h6.1'></a>\n",
    "#### 6.1 Accesing to each dict"
   ]
  },
  {
   "cell_type": "code",
   "execution_count": 20,
   "metadata": {},
   "outputs": [
    {
     "data": {
      "text/plain": [
       "{'name': 'Abdul Saboor',\n",
       " 'roll_no': '2015-SE-143',\n",
       " 'depart': 'Software Engineering'}"
      ]
     },
     "execution_count": 20,
     "metadata": {},
     "output_type": "execute_result"
    }
   ],
   "source": [
    "students[0] # dictionary at index 0"
   ]
  },
  {
   "cell_type": "code",
   "execution_count": 21,
   "metadata": {},
   "outputs": [
    {
     "data": {
      "text/plain": [
       "{'name': 'Waleed', 'roll_no': '2015-SE-142', 'depart': 'Computer Engineering'}"
      ]
     },
     "execution_count": 21,
     "metadata": {},
     "output_type": "execute_result"
    }
   ],
   "source": [
    "students[1] # dictionary at index 1"
   ]
  },
  {
   "cell_type": "code",
   "execution_count": 22,
   "metadata": {},
   "outputs": [
    {
     "data": {
      "text/plain": [
       "{'name': 'Rahima Khan', 'roll_no': '2019-Ma-123', 'depart': 'Mathematics'}"
      ]
     },
     "execution_count": 22,
     "metadata": {},
     "output_type": "execute_result"
    }
   ],
   "source": [
    "students[2] # dictionary at index 2"
   ]
  },
  {
   "cell_type": "markdown",
   "metadata": {},
   "source": [
    "[Go to summary](#summary)"
   ]
  },
  {
   "cell_type": "markdown",
   "metadata": {},
   "source": [
    "<a id='h6.2'></a>\n",
    "#### 6.2 finding all values in a list of dict "
   ]
  },
  {
   "cell_type": "code",
   "execution_count": 23,
   "metadata": {},
   "outputs": [
    {
     "name": "stdout",
     "output_type": "stream",
     "text": [
      "Abdul Saboor\n",
      "2015-SE-143\n",
      "Software Engineering\n",
      "Waleed\n",
      "2015-SE-142\n",
      "Computer Engineering\n",
      "Rahima Khan\n",
      "2019-Ma-123\n",
      "Mathematics\n"
     ]
    }
   ],
   "source": [
    "for student in students: # looping through list\n",
    "    for value in student.values(): # looping through values in dictionary\n",
    "        print(value)"
   ]
  },
  {
   "cell_type": "markdown",
   "metadata": {},
   "source": [
    "[Go to summary](#summary)"
   ]
  },
  {
   "cell_type": "markdown",
   "metadata": {},
   "source": [
    "<a id='h6.3'></a>\n",
    "#### 6.3 finding all keys in a list of dict"
   ]
  },
  {
   "cell_type": "code",
   "execution_count": 24,
   "metadata": {},
   "outputs": [
    {
     "name": "stdout",
     "output_type": "stream",
     "text": [
      "name\n",
      "roll_no\n",
      "depart\n",
      "name\n",
      "roll_no\n",
      "depart\n",
      "name\n",
      "roll_no\n",
      "depart\n"
     ]
    }
   ],
   "source": [
    "for student in students:\n",
    "    for key in student.keys():\n",
    "        print(key)"
   ]
  },
  {
   "cell_type": "markdown",
   "metadata": {},
   "source": [
    "[Go to summary](#summary)"
   ]
  },
  {
   "cell_type": "markdown",
   "metadata": {},
   "source": [
    "<a id='h6.4'></a>\n",
    "#### 6.4 print key value pair in simple form from a list of dict"
   ]
  },
  {
   "cell_type": "code",
   "execution_count": 25,
   "metadata": {},
   "outputs": [
    {
     "name": "stdout",
     "output_type": "stream",
     "text": [
      "name: Abdul Saboor\n",
      "roll_no: 2015-SE-143\n",
      "depart: Software Engineering\n",
      "name: Waleed\n",
      "roll_no: 2015-SE-142\n",
      "depart: Computer Engineering\n",
      "name: Rahima Khan\n",
      "roll_no: 2019-Ma-123\n",
      "depart: Mathematics\n"
     ]
    }
   ],
   "source": [
    "for student in students:\n",
    "    for key,value in student.items():\n",
    "        print(key+\": \"+value)"
   ]
  },
  {
   "cell_type": "markdown",
   "metadata": {},
   "source": [
    "[Go to summary](#summary)"
   ]
  },
  {
   "cell_type": "markdown",
   "metadata": {},
   "source": [
    "<a id='h6.5'></a>\n",
    "#### 6.5 finding particular info from a list of dict"
   ]
  },
  {
   "cell_type": "markdown",
   "metadata": {},
   "source": [
    "Q. In list of dictionaries, a group of dictionbaries hava no name, so how to get particular inforamation from a dict<br>\n",
    "Ans. 2 things are used, 1st index of list, 2nd value of dict\n",
    "     we should know index of required value of particular dict"
   ]
  },
  {
   "cell_type": "code",
   "execution_count": 26,
   "metadata": {},
   "outputs": [
    {
     "name": "stdout",
     "output_type": "stream",
     "text": [
      "asaboor94@gmail.com\n"
     ]
    }
   ],
   "source": [
    "print(users[0]['e_mail'])"
   ]
  },
  {
   "cell_type": "code",
   "execution_count": 27,
   "metadata": {},
   "outputs": [
    {
     "name": "stdout",
     "output_type": "stream",
     "text": [
      "rahimakhan123@gmail.com\n"
     ]
    }
   ],
   "source": [
    "print(users[1]['e_mail'])"
   ]
  },
  {
   "cell_type": "code",
   "execution_count": 28,
   "metadata": {},
   "outputs": [
    {
     "name": "stdout",
     "output_type": "stream",
     "text": [
      "987\n"
     ]
    }
   ],
   "source": [
    "print(users[2]['password'])"
   ]
  },
  {
   "cell_type": "code",
   "execution_count": 29,
   "metadata": {},
   "outputs": [
    {
     "name": "stdout",
     "output_type": "stream",
     "text": [
      "Rahima\n"
     ]
    }
   ],
   "source": [
    "print(users[1]['first_name'])"
   ]
  },
  {
   "cell_type": "markdown",
   "metadata": {},
   "source": [
    "[Go to summary](#summary)"
   ]
  },
  {
   "cell_type": "markdown",
   "metadata": {},
   "source": [
    "<a id='h6.6'></a>\n",
    "#### 6.6 finding particular value from all dicts in a list of dicts"
   ]
  },
  {
   "cell_type": "code",
   "execution_count": 30,
   "metadata": {},
   "outputs": [
    {
     "name": "stdout",
     "output_type": "stream",
     "text": [
      "asaboor94@gmail.com\n",
      "rahimakhan123@gmail.com\n",
      "bilalhussain@hotmail.com\n"
     ]
    }
   ],
   "source": [
    "for user in users:\n",
    "    print(user['e_mail'])"
   ]
  },
  {
   "cell_type": "code",
   "execution_count": 31,
   "metadata": {},
   "outputs": [
    {
     "name": "stdout",
     "output_type": "stream",
     "text": [
      "Abdul Saboor\n",
      "Rahima Khan\n",
      "Bilal Hussain Hussain\n"
     ]
    }
   ],
   "source": [
    "for user in users:\n",
    "    full_name = user['first_name']+\" \"+user['last_name']\n",
    "    print(full_name)"
   ]
  },
  {
   "cell_type": "markdown",
   "metadata": {},
   "source": [
    "[Go to summary](#summary)"
   ]
  },
  {
   "cell_type": "markdown",
   "metadata": {},
   "source": [
    "<a id='h6.7'></a>\n",
    "#### 6.7 find index of particular value from a list of dict (using for loop)"
   ]
  },
  {
   "cell_type": "code",
   "execution_count": 32,
   "metadata": {},
   "outputs": [
    {
     "name": "stdout",
     "output_type": "stream",
     "text": [
      "index of required value's dictionary is 1\n"
     ]
    }
   ],
   "source": [
    "i = 0\n",
    "for user in users:\n",
    "    if user['first_name'] == 'Rahima':\n",
    "        break\n",
    "    else:\n",
    "        i+= 1\n",
    "print(\"index of required value's dictionary is \"+str(i))"
   ]
  },
  {
   "cell_type": "code",
   "execution_count": 33,
   "metadata": {},
   "outputs": [
    {
     "name": "stdout",
     "output_type": "stream",
     "text": [
      "Rahima\n"
     ]
    }
   ],
   "source": [
    "print(users[i]['first_name']) # particular value ki index nikaalne se ham particular dict par pohunch sakte hain "
   ]
  },
  {
   "cell_type": "markdown",
   "metadata": {},
   "source": [
    "[Go to summary](#summary)"
   ]
  },
  {
   "cell_type": "markdown",
   "metadata": {},
   "source": [
    "<a id='h6.8'></a>\n",
    "#### 6.8 find index of particular value from a list of dict (using while loop)"
   ]
  },
  {
   "cell_type": "code",
   "execution_count": 34,
   "metadata": {},
   "outputs": [
    {
     "name": "stdout",
     "output_type": "stream",
     "text": [
      "index of required value's dictionary is 1\n"
     ]
    }
   ],
   "source": [
    "i = 0\n",
    "while users:\n",
    "    if users[i]['first_name'] == 'Rahima':\n",
    "        break\n",
    "    else:\n",
    "        i+= 1\n",
    "print(\"index of required value's dictionary is \"+str(i))"
   ]
  },
  {
   "cell_type": "markdown",
   "metadata": {},
   "source": [
    "[Go to summary](#summary)"
   ]
  },
  {
   "cell_type": "markdown",
   "metadata": {},
   "source": [
    "<a id='h7'></a>\n",
    "### 7. Creating a list in a dictionary"
   ]
  },
  {
   "cell_type": "code",
   "execution_count": 35,
   "metadata": {},
   "outputs": [
    {
     "name": "stdout",
     "output_type": "stream",
     "text": [
      "{'programming Fundamentals': ['Touseef Mobeen', 'Zulfiqar Hussain', 'Sarwat Ajaz'], 'LA&DE': ['Naseem', 'Maria', 'Zaaullah Khan'], 'DES': ['Atir Iftikihar', 'Rubina alam']}\n"
     ]
    }
   ],
   "source": [
    "teachers = {\n",
    "    'programming Fundamentals': ['Touseef Mobeen','Zulfiqar Hussain','Sarwat Ajaz'],\n",
    "    'LA&DE': ['Naseem','Maria','Zaaullah Khan'],\n",
    "    'DES': ['Atir Iftikihar', 'Rubina alam' ],\n",
    "}\n",
    "print(teachers)"
   ]
  },
  {
   "cell_type": "markdown",
   "metadata": {},
   "source": [
    "[Go to summary](#summary)"
   ]
  },
  {
   "cell_type": "markdown",
   "metadata": {},
   "source": [
    "<a id='h7.1'></a>\n",
    "#### 7.1 Accessing to a list of each dict's key"
   ]
  },
  {
   "cell_type": "code",
   "execution_count": 36,
   "metadata": {},
   "outputs": [
    {
     "name": "stdout",
     "output_type": "stream",
     "text": [
      "          Subject1: programming Fundamentals\n",
      "1- Touseef Mobeen\n",
      "2- Zulfiqar Hussain\n",
      "3- Sarwat Ajaz\n",
      "          Subject2: LA&DE\n",
      "1- Naseem\n",
      "2- Maria\n",
      "3- Zaaullah Khan\n",
      "          Subject3: DES\n",
      "1- Atir Iftikihar\n",
      "2- Rubina alam\n"
     ]
    }
   ],
   "source": [
    "sub_no = 0\n",
    "for sub,teacher in teachers.items():\n",
    "    sub_no+= 1\n",
    "    print(\"          \"+\"Subject\"+str(sub_no)+\": \"+sub)\n",
    "    no = 0\n",
    "    for i in teacher:\n",
    "        no+= 1\n",
    "        print(str(no)+\"- \"+i)"
   ]
  },
  {
   "cell_type": "markdown",
   "metadata": {},
   "source": [
    "[Go to summary](#summary)"
   ]
  },
  {
   "cell_type": "markdown",
   "metadata": {},
   "source": [
    "<a id='h7.2'></a>\n",
    "#### 7.2 finding first value of a list in all keys"
   ]
  },
  {
   "cell_type": "code",
   "execution_count": 37,
   "metadata": {},
   "outputs": [
    {
     "name": "stdout",
     "output_type": "stream",
     "text": [
      "Touseef Mobeen\n",
      "Naseem\n",
      "Atir Iftikihar\n"
     ]
    }
   ],
   "source": [
    "'''for finding first teacher of all subjects'''\n",
    "for teacher in teachers.values():\n",
    "    print(teacher[0])"
   ]
  },
  {
   "cell_type": "markdown",
   "metadata": {},
   "source": [
    "[Go to summary](#summary)"
   ]
  },
  {
   "cell_type": "markdown",
   "metadata": {},
   "source": [
    "<a id='h7.3'></a>\n",
    "#### 7.3 accessing to list of a key"
   ]
  },
  {
   "cell_type": "code",
   "execution_count": 38,
   "metadata": {},
   "outputs": [
    {
     "name": "stdout",
     "output_type": "stream",
     "text": [
      "['Atir Iftikihar', 'Rubina alam']\n"
     ]
    }
   ],
   "source": [
    "print(teachers['DES'])"
   ]
  },
  {
   "cell_type": "markdown",
   "metadata": {},
   "source": [
    "[Go to summary](#summary)"
   ]
  },
  {
   "cell_type": "markdown",
   "metadata": {},
   "source": [
    "<a id='h7.4'></a>\n",
    "#### 7.4 accessing to a list value of a key"
   ]
  },
  {
   "cell_type": "code",
   "execution_count": 39,
   "metadata": {},
   "outputs": [
    {
     "name": "stdout",
     "output_type": "stream",
     "text": [
      "Atir Iftikihar\n"
     ]
    }
   ],
   "source": [
    "print(teachers['DES'][0])"
   ]
  },
  {
   "cell_type": "code",
   "execution_count": 40,
   "metadata": {},
   "outputs": [
    {
     "name": "stdout",
     "output_type": "stream",
     "text": [
      "Rubina alam\n"
     ]
    }
   ],
   "source": [
    "print(teachers['DES'][1])"
   ]
  },
  {
   "cell_type": "markdown",
   "metadata": {},
   "source": [
    "[Go to summary](#summary)"
   ]
  },
  {
   "cell_type": "markdown",
   "metadata": {},
   "source": [
    "<a id='h7.5'></a>\n",
    "### 7.5 accessing to all list values of a key one by one"
   ]
  },
  {
   "cell_type": "code",
   "execution_count": 41,
   "metadata": {},
   "outputs": [
    {
     "name": "stdout",
     "output_type": "stream",
     "text": [
      "1- Touseef Mobeen\n",
      "2- Zulfiqar Hussain\n",
      "3- Sarwat Ajaz\n"
     ]
    }
   ],
   "source": [
    "'''print all terachers of programming fundamentals'''\n",
    "i = 0\n",
    "for teacher in teachers.values():\n",
    "    print(str(i+1)+\"- \"+teachers['programming Fundamentals'][i])\n",
    "    i+= 1"
   ]
  },
  {
   "cell_type": "markdown",
   "metadata": {},
   "source": [
    "[Go to summary](#summary)"
   ]
  },
  {
   "cell_type": "markdown",
   "metadata": {},
   "source": [
    "<a id='h7.6'></a>\n",
    "#### 7.6 accessing all keys in a dict"
   ]
  },
  {
   "cell_type": "code",
   "execution_count": 42,
   "metadata": {},
   "outputs": [
    {
     "name": "stdout",
     "output_type": "stream",
     "text": [
      "1- programming Fundamentals\n",
      "2- LA&DE\n",
      "3- DES\n"
     ]
    }
   ],
   "source": [
    "'''print all available subjects'''\n",
    "i = 0\n",
    "for sub in teachers.keys():\n",
    "    print(str(i+1)+\"- \"+sub)\n",
    "    i+= 1\n",
    "    "
   ]
  },
  {
   "cell_type": "markdown",
   "metadata": {},
   "source": [
    "[Go to summary](#summary)"
   ]
  },
  {
   "cell_type": "markdown",
   "metadata": {},
   "source": [
    "<a id='h7.7'></a>\n",
    "#### 7.7 checking whether reqired key is available in dict"
   ]
  },
  {
   "cell_type": "code",
   "execution_count": 43,
   "metadata": {},
   "outputs": [
    {
     "name": "stdout",
     "output_type": "stream",
     "text": [
      "Yes\n"
     ]
    }
   ],
   "source": [
    "if 'DES' in teachers.keys():\n",
    "    print('Yes')"
   ]
  },
  {
   "cell_type": "code",
   "execution_count": 44,
   "metadata": {},
   "outputs": [
    {
     "name": "stdout",
     "output_type": "stream",
     "text": [
      "No\n"
     ]
    }
   ],
   "source": [
    "if 'Maths' in teachers.keys():\n",
    "    print('Yes')\n",
    "else:\n",
    "    print('No')"
   ]
  },
  {
   "cell_type": "markdown",
   "metadata": {},
   "source": [
    "[Go to summary](#summary)"
   ]
  },
  {
   "cell_type": "markdown",
   "metadata": {},
   "source": [
    "<a id='h7.8'></a>\n",
    "#### 7.8 checking whether required value is available in dict"
   ]
  },
  {
   "cell_type": "code",
   "execution_count": 45,
   "metadata": {},
   "outputs": [
    {
     "name": "stdout",
     "output_type": "stream",
     "text": [
      "No\n"
     ]
    }
   ],
   "source": [
    "if 'Naseem' in teachers.values(): # value matrix h or choon k poora matric uth kar value me aaraha h is liye naseem me true nahei de raha\n",
    "    print('Yes')\n",
    "else:\n",
    "    print('No')"
   ]
  },
  {
   "cell_type": "code",
   "execution_count": 46,
   "metadata": {},
   "outputs": [
    {
     "name": "stdout",
     "output_type": "stream",
     "text": [
      "Yes\n"
     ]
    }
   ],
   "source": [
    "for v in teachers.values():\n",
    "    if 'Naseem' in v:\n",
    "        print('Yes')"
   ]
  },
  {
   "cell_type": "markdown",
   "metadata": {},
   "source": [
    "[Go to summary](#summary)"
   ]
  },
  {
   "cell_type": "markdown",
   "metadata": {},
   "source": [
    "<a id='7.9'></a>\n",
    "#### 7.9 checking whether reqired key or value in dict"
   ]
  },
  {
   "cell_type": "code",
   "execution_count": 47,
   "metadata": {},
   "outputs": [
    {
     "name": "stdout",
     "output_type": "stream",
     "text": [
      "Subject: DES\n"
     ]
    }
   ],
   "source": [
    "for k,v in teachers.items():\n",
    "    if 'Rubina alam' in v:\n",
    "        print(\"Subject: \"+k)"
   ]
  },
  {
   "cell_type": "code",
   "execution_count": 48,
   "metadata": {},
   "outputs": [
    {
     "name": "stdout",
     "output_type": "stream",
     "text": [
      "Subject: LA&DE\n"
     ]
    }
   ],
   "source": [
    "for k,v in teachers.items():\n",
    "    if 'Naseem' in v:\n",
    "        print(\"Subject: \"+k)"
   ]
  },
  {
   "cell_type": "code",
   "execution_count": 49,
   "metadata": {},
   "outputs": [
    {
     "name": "stdout",
     "output_type": "stream",
     "text": [
      "Subject: programming Fundamentals\n"
     ]
    }
   ],
   "source": [
    "for k,v in teachers.items():\n",
    "    if 'Touseef Mobeen' in v:\n",
    "        print(\"Subject: \"+k)"
   ]
  },
  {
   "cell_type": "markdown",
   "metadata": {},
   "source": [
    "[Go to summary](#summary)"
   ]
  },
  {
   "cell_type": "markdown",
   "metadata": {},
   "source": [
    "<a id='8'></a>\n",
    "### 8. Dictionary in a dictionary"
   ]
  },
  {
   "cell_type": "code",
   "execution_count": 50,
   "metadata": {},
   "outputs": [
    {
     "data": {
      "text/plain": [
       "{'saboor123': {'first_name': 'Abdul',\n",
       "  'last_name': 'Saboor',\n",
       "  'e_mail': 'asaboor94@gmail.com',\n",
       "  'password': '123'},\n",
       " 'Rahima 786': {'first_name': 'Rahima',\n",
       "  'last_name': 'Khan',\n",
       "  'e_mail': 'rahimakhan123@gmail.com',\n",
       "  'password': '321'},\n",
       " 'Bilal490': {'first_name': 'Bilal Hussain',\n",
       "  'last_name': 'Hussain',\n",
       "  'e_mail': 'bilalhussain@hotmail.com',\n",
       "  'password': '987'}}"
      ]
     },
     "execution_count": 50,
     "metadata": {},
     "output_type": "execute_result"
    }
   ],
   "source": [
    "users = {\n",
    "    'saboor123': {\n",
    "    'first_name': \"Abdul\",\n",
    "    'last_name': \"Saboor\",\n",
    "    'e_mail': \"asaboor94@gmail.com\",\n",
    "    'password': \"123\",\n",
    "},\n",
    "    'Rahima 786': {\n",
    "    'first_name': \"Rahima\",\n",
    "    'last_name': \"Khan\",\n",
    "    'e_mail': \"rahimakhan123@gmail.com\",\n",
    "    'password': \"321\",\n",
    "},\n",
    "     'Bilal490': {\n",
    "    'first_name': \"Bilal Hussain\",\n",
    "    'last_name': \"Hussain\",\n",
    "    'e_mail': \"bilalhussain@hotmail.com\",\n",
    "    'password': \"987\",\n",
    "},\n",
    "\n",
    "}\n",
    "users"
   ]
  },
  {
   "cell_type": "code",
   "execution_count": null,
   "metadata": {},
   "outputs": [],
   "source": []
  },
  {
   "cell_type": "markdown",
   "metadata": {},
   "source": [
    "#### Note\n",
    "We can call dictionary in a dictionary is a nested dictionary. So all the operations in a dictionary can be applied in a nested dict in a nested way."
   ]
  },
  {
   "cell_type": "code",
   "execution_count": 51,
   "metadata": {},
   "outputs": [
    {
     "name": "stdout",
     "output_type": "stream",
     "text": [
      "saboor123\n",
      "Rahima 786\n",
      "Bilal490\n"
     ]
    }
   ],
   "source": [
    "for key in users.keys():\n",
    "    print(key)"
   ]
  },
  {
   "cell_type": "code",
   "execution_count": 52,
   "metadata": {},
   "outputs": [
    {
     "name": "stdout",
     "output_type": "stream",
     "text": [
      "{'first_name': 'Abdul', 'last_name': 'Saboor', 'e_mail': 'asaboor94@gmail.com', 'password': '123'}\n",
      "{'first_name': 'Rahima', 'last_name': 'Khan', 'e_mail': 'rahimakhan123@gmail.com', 'password': '321'}\n",
      "{'first_name': 'Bilal Hussain', 'last_name': 'Hussain', 'e_mail': 'bilalhussain@hotmail.com', 'password': '987'}\n"
     ]
    }
   ],
   "source": [
    "for value in users.values():\n",
    "    print(value)"
   ]
  },
  {
   "cell_type": "code",
   "execution_count": 53,
   "metadata": {},
   "outputs": [
    {
     "name": "stdout",
     "output_type": "stream",
     "text": [
      "Abdul\n",
      "Saboor\n",
      "asaboor94@gmail.com\n",
      "123\n",
      "Rahima\n",
      "Khan\n",
      "rahimakhan123@gmail.com\n",
      "321\n",
      "Bilal Hussain\n",
      "Hussain\n",
      "bilalhussain@hotmail.com\n",
      "987\n"
     ]
    }
   ],
   "source": [
    "for value in users.values():\n",
    "    for val in value.values():\n",
    "        print(val)"
   ]
  },
  {
   "cell_type": "code",
   "execution_count": 54,
   "metadata": {},
   "outputs": [
    {
     "name": "stdout",
     "output_type": "stream",
     "text": [
      "first_name\n",
      "last_name\n",
      "e_mail\n",
      "password\n",
      "first_name\n",
      "last_name\n",
      "e_mail\n",
      "password\n",
      "first_name\n",
      "last_name\n",
      "e_mail\n",
      "password\n"
     ]
    }
   ],
   "source": [
    "for value in users.values():\n",
    "    for key in value.keys():\n",
    "        print(key)"
   ]
  },
  {
   "cell_type": "code",
   "execution_count": 55,
   "metadata": {},
   "outputs": [
    {
     "name": "stdout",
     "output_type": "stream",
     "text": [
      "\n",
      "\n",
      "User_1: saboor123\n",
      "1- first_name: Abdul\n",
      "2- last_name: Saboor\n",
      "3- e_mail: asaboor94@gmail.com\n",
      "4- password: 123\n",
      "\n",
      "\n",
      "User_2: Rahima 786\n",
      "1- first_name: Rahima\n",
      "2- last_name: Khan\n",
      "3- e_mail: rahimakhan123@gmail.com\n",
      "4- password: 321\n",
      "\n",
      "\n",
      "User_3: Bilal490\n",
      "1- first_name: Bilal Hussain\n",
      "2- last_name: Hussain\n",
      "3- e_mail: bilalhussain@hotmail.com\n",
      "4- password: 987\n"
     ]
    }
   ],
   "source": [
    "i = 0\n",
    "for key,value in users.items():\n",
    "    print(\"\\n\")\n",
    "    print(\"User_\"+str(i+1)+\": \"+key)\n",
    "    i+= 1\n",
    "    j = 0\n",
    "    for k,v in value.items():\n",
    "        print(\"\"+str(j+1)+\"- \"+k+\": \"+v)\n",
    "        j+= 1"
   ]
  },
  {
   "cell_type": "code",
   "execution_count": 56,
   "metadata": {},
   "outputs": [
    {
     "name": "stdout",
     "output_type": "stream",
     "text": [
      "Bilal490\n"
     ]
    }
   ],
   "source": [
    "'''find user through e_mail'''\n",
    "for key,value in users.items():\n",
    "    for k,v in value.items():\n",
    "        if 'bilalhussain@hotmail.com' in v:\n",
    "            print(key)"
   ]
  },
  {
   "cell_type": "code",
   "execution_count": 57,
   "metadata": {},
   "outputs": [
    {
     "name": "stdout",
     "output_type": "stream",
     "text": [
      "Rahima 786\n"
     ]
    }
   ],
   "source": [
    "'''find user through e_mail'''\n",
    "for key,value in users.items():\n",
    "    for k,v in value.items():\n",
    "        if 'rahimakhan123@gmail.com' in v:\n",
    "            print(key)"
   ]
  },
  {
   "cell_type": "code",
   "execution_count": 58,
   "metadata": {},
   "outputs": [
    {
     "name": "stdout",
     "output_type": "stream",
     "text": [
      "{'first_name': 'Abdul', 'last_name': 'Saboor', 'e_mail': 'asaboor94@gmail.com', 'password': '123'}\n"
     ]
    }
   ],
   "source": [
    "'''for finding information of particular user in the form of dictionary'''\n",
    "for key,value in users.items():\n",
    "    if 'saboor123' in key:\n",
    "        print(value)"
   ]
  },
  {
   "cell_type": "code",
   "execution_count": 59,
   "metadata": {},
   "outputs": [
    {
     "name": "stdout",
     "output_type": "stream",
     "text": [
      "{'first_name': 'Abdul', 'last_name': 'Saboor', 'e_mail': 'asaboor94@gmail.com', 'password': '123'}\n"
     ]
    }
   ],
   "source": [
    "print(users['saboor123'])"
   ]
  },
  {
   "cell_type": "code",
   "execution_count": 60,
   "metadata": {},
   "outputs": [
    {
     "name": "stdout",
     "output_type": "stream",
     "text": [
      "asaboor94@gmail.com\n"
     ]
    }
   ],
   "source": [
    "print(users['saboor123']['e_mail'])"
   ]
  },
  {
   "cell_type": "code",
   "execution_count": 61,
   "metadata": {},
   "outputs": [
    {
     "name": "stdout",
     "output_type": "stream",
     "text": [
      "1- first_name: Rahima\n",
      "2- last_name: Khan\n",
      "3- e_mail: rahimakhan123@gmail.com\n",
      "4- password: 321\n"
     ]
    }
   ],
   "source": [
    "'''for finding information of particular user in simple form'''\n",
    "i = 0\n",
    "for key,value in users.items():\n",
    "    if 'Rahima 786' in key:\n",
    "        for k,v in value.items():\n",
    "            i+= 1\n",
    "            print(str(i)+\"- \"+k+\": \"+v)"
   ]
  },
  {
   "cell_type": "code",
   "execution_count": 62,
   "metadata": {},
   "outputs": [
    {
     "name": "stdout",
     "output_type": "stream",
     "text": [
      "UserName: saboor123\n",
      "Email: asaboor94@gmail.com\n",
      "UserName: Rahima 786\n",
      "Email: rahimakhan123@gmail.com\n",
      "UserName: Bilal490\n",
      "Email: bilalhussain@hotmail.com\n"
     ]
    }
   ],
   "source": [
    "'''for finding particular information of user'''\n",
    "for key,value in users.items():\n",
    "    print(\"UserName: \"+key)\n",
    "    for k,val in value.items():\n",
    "        if 'e_mail' in k:\n",
    "            print(\"Email: \"+val)\n",
    "        \n",
    "        "
   ]
  },
  {
   "cell_type": "code",
   "execution_count": 63,
   "metadata": {},
   "outputs": [
    {
     "name": "stdout",
     "output_type": "stream",
     "text": [
      "UserName: saboor123\n",
      "Password: 123\n",
      "UserName: Rahima 786\n",
      "Password: 321\n",
      "UserName: Bilal490\n",
      "Password: 987\n"
     ]
    }
   ],
   "source": [
    "'''for finding particular information of user'''\n",
    "for key,value in users.items():\n",
    "    print(\"UserName: \"+key)\n",
    "    for k,val in value.items():\n",
    "        if 'password' in k:\n",
    "            print(\"Password: \"+str(val))\n",
    "        \n",
    "        "
   ]
  },
  {
   "cell_type": "code",
   "execution_count": 64,
   "metadata": {},
   "outputs": [
    {
     "name": "stdout",
     "output_type": "stream",
     "text": [
      "UserName: saboor123\n",
      "Email: asaboor94@gmail.com\n",
      "UserName: Rahima 786\n",
      "Email: rahimakhan123@gmail.com\n",
      "UserName: Bilal490\n",
      "Email: bilalhussain@hotmail.com\n"
     ]
    }
   ],
   "source": [
    "'''Another easy and short way'''\n",
    "for key in users.keys():\n",
    "    print(\"UserName: \"+key)\n",
    "    print(\"Email: \"+users[key]['e_mail'])"
   ]
  },
  {
   "cell_type": "code",
   "execution_count": 65,
   "metadata": {},
   "outputs": [
    {
     "name": "stdout",
     "output_type": "stream",
     "text": [
      "UserName: saboor123\n",
      "Password: 123\n",
      "UserName: Rahima 786\n",
      "Password: 321\n",
      "UserName: Bilal490\n",
      "Password: 987\n"
     ]
    }
   ],
   "source": [
    "'''Another easy and short way'''\n",
    "for key in users.keys():\n",
    "    print(\"UserName: \"+key)\n",
    "    print(\"Password: \"+users[key]['password'])"
   ]
  },
  {
   "cell_type": "code",
   "execution_count": 66,
   "metadata": {},
   "outputs": [
    {
     "name": "stdout",
     "output_type": "stream",
     "text": [
      "Full Name: Abdul Saboor\n"
     ]
    }
   ],
   "source": [
    "'''for finding particular information of particular user'''\n",
    "for key,value in users.items():\n",
    "    if 'saboor123' in key:\n",
    "        for k,v in value.items():\n",
    "            if 'first_name' in k:\n",
    "                first_name = v\n",
    "            if 'last_name' in k:\n",
    "                last_name = v\n",
    "print(\"Full Name: \"+first_name+\" \"+last_name)"
   ]
  },
  {
   "cell_type": "code",
   "execution_count": 67,
   "metadata": {},
   "outputs": [
    {
     "name": "stdout",
     "output_type": "stream",
     "text": [
      "Full Name: Rahima Khan\n"
     ]
    }
   ],
   "source": [
    "'''for finding particular information of particular user'''\n",
    "for key,value in users.items():\n",
    "    if 'Rahima 786' in key:\n",
    "        for k,v in value.items():\n",
    "            if 'first_name' in k:\n",
    "                first_name = v\n",
    "            if 'last_name' in k:\n",
    "                last_name = v\n",
    "print(\"Full Name: \"+first_name+\" \"+last_name)"
   ]
  },
  {
   "cell_type": "code",
   "execution_count": 68,
   "metadata": {},
   "outputs": [
    {
     "name": "stdout",
     "output_type": "stream",
     "text": [
      "Abdul Saboor\n"
     ]
    }
   ],
   "source": [
    "'''Another way'''\n",
    "full_name = users['saboor123']['first_name'] + \" \" + users['saboor123']['last_name']\n",
    "print(full_name)"
   ]
  },
  {
   "cell_type": "code",
   "execution_count": 69,
   "metadata": {},
   "outputs": [
    {
     "name": "stdout",
     "output_type": "stream",
     "text": [
      "Rahima Khan\n"
     ]
    }
   ],
   "source": [
    "'''Another way'''\n",
    "full_name = users['Rahima 786']['first_name'] + \" \" + users['Rahima 786']['last_name']\n",
    "print(full_name)"
   ]
  },
  {
   "cell_type": "markdown",
   "metadata": {},
   "source": [
    "<a id='9'></a>\n",
    "### 9. Find if a key present in dict or not"
   ]
  },
  {
   "cell_type": "code",
   "execution_count": 70,
   "metadata": {},
   "outputs": [
    {
     "name": "stdout",
     "output_type": "stream",
     "text": [
      "yes\n"
     ]
    }
   ],
   "source": [
    "dict = {1: 10, 2: 20, 3: 30, 4: 40, 5: 50, 6: 60}\n",
    "if 1 in dict: # sirf keys dekhe gas value nahei\n",
    "    print(\"yes\") # yes dega q k 1 mojood h as a key\n",
    "else:\n",
    "    print(\"no\")"
   ]
  },
  {
   "cell_type": "code",
   "execution_count": 71,
   "metadata": {},
   "outputs": [
    {
     "name": "stdout",
     "output_type": "stream",
     "text": [
      "no\n"
     ]
    }
   ],
   "source": [
    "dict = {1: 10, 2: 20, 3: 30, 4: 40, 5: 50, 6: 60}\n",
    "if 10 in dict: # sirf keys dekhe gas value nahei\n",
    "    print(\"yes\") # yes dega q k 1 mojood h as a key\n",
    "else:\n",
    "    print(\"no\")  # No dega q k 10 value h"
   ]
  },
  {
   "cell_type": "markdown",
   "metadata": {},
   "source": [
    "<a id='summary'></a>\n",
    "# Summary"
   ]
  },
  {
   "cell_type": "markdown",
   "metadata": {},
   "source": [
    "[1. Initialization & Declaration](#h1)<br>\n",
    "[2. Dictionary manipulation](#h2)<br>\n",
    "> [2.1 modify a dict's value](#h2.1)<br>\n",
    "[2.2 deleting a whole dict](#h2.2)<br>\n",
    "[2.3 add items to a dict](#h2.3)<br>\n",
    "[2.4 delete items from a dict](#h2.4)"
   ]
  },
  {
   "cell_type": "markdown",
   "metadata": {},
   "source": [
    "[3. Looping through a dict](#h3)<br>\n",
    "> [3.1 looping through values](#h3.1)<br>\n",
    "[3.2 looping through keys](#h3.2)<br>\n",
    "[3.3 looping through both(keys & values](#h3.3)"
   ]
  },
  {
   "cell_type": "markdown",
   "metadata": {},
   "source": [
    "[4. Looping through a dict in ascending order](#h4)<br>\n",
    "[5. Looping through all unique values in a dict](#h5)<br>\n",
    "[6. Making a list of dict](#h6)<br>\n",
    "> [6.1 accessing to each dict](#h6.1)<br>\n",
    "[6.2 finding all values in a list of dict](#h6.2)<br>\n",
    "[6.3 finding all keys in a list of dict](#h6.3)<br>\n",
    "[6.4 print key value pair in simple form from a list of dict](#h6.4)<br>\n",
    "[6.5 finding particular info from a list of dict](#h6.5)<br>\n",
    "[6.6 finding particular value from all dicts in a list of dicts](#h6.6)<br>\n",
    "[6.7 find index of particular value from a list of dict(using for loop)](#h6.7)<br>\n",
    "[6.8 find index of particular value from a list of dict(using while loop)](#h6.8)"
   ]
  },
  {
   "cell_type": "markdown",
   "metadata": {},
   "source": [
    "[7. Creating a list in a dict](#h7)<br>\n",
    ">[7.1 accessing to a list of each dict's key](#h7.1)<br>\n",
    "[7.2 finding first value of list in all keys](#h7.2)<br>\n",
    "[7.3 accessing to a list of a key](#h7.3)<br>\n",
    "[7.4 accessing to a value of a key](#h7.4)<br>\n",
    "[7.5 accessing to all list values of a key one by one](#h7.5)<br>\n",
    "[7.6 accessing all keys in a dict](#h7.6)<br>\n",
    "[7.7 checking whether required key is available in dict](#h7.7)<br>\n",
    "[7.8 checking whether required value is available in dict](#h7.8)<br>\n",
    "[7.9 checking whether required key or value is available in dict](#h7.9)"
   ]
  },
  {
   "cell_type": "markdown",
   "metadata": {},
   "source": [
    "[8. Dictionary in  dictionary](#h8)<br>\n",
    "[9. Find if a key present in dict or not](#h9)"
   ]
  },
  {
   "cell_type": "code",
   "execution_count": null,
   "metadata": {},
   "outputs": [],
   "source": []
  }
 ],
 "metadata": {
  "kernelspec": {
   "display_name": "Python 3",
   "language": "python",
   "name": "python3"
  },
  "language_info": {
   "codemirror_mode": {
    "name": "ipython",
    "version": 3
   },
   "file_extension": ".py",
   "mimetype": "text/x-python",
   "name": "python",
   "nbconvert_exporter": "python",
   "pygments_lexer": "ipython3",
   "version": "3.6.5"
  }
 },
 "nbformat": 4,
 "nbformat_minor": 2
}
